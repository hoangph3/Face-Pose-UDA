{
 "cells": [
  {
   "cell_type": "code",
   "execution_count": 1,
   "id": "c5d5a3ba-bb98-4368-a173-66b5e01de336",
   "metadata": {},
   "outputs": [],
   "source": [
    "import sys\n",
    "sys.path.append(\"..\")"
   ]
  },
  {
   "cell_type": "code",
   "execution_count": 2,
   "id": "aa79325c-2666-4aef-bb2f-c9c313dc0d9c",
   "metadata": {},
   "outputs": [
    {
     "name": "stdout",
     "output_type": "stream",
     "text": [
      "Applied providers: ['CPUExecutionProvider'], with options: {'CPUExecutionProvider': {}}\n",
      "find model: /home/hoang/.insightface/models/buffalo_l/1k3d68.onnx landmark_3d_68 ['None', 3, 192, 192] 0.0 1.0\n",
      "Applied providers: ['CPUExecutionProvider'], with options: {'CPUExecutionProvider': {}}\n",
      "find model: /home/hoang/.insightface/models/buffalo_l/2d106det.onnx landmark_2d_106 ['None', 3, 192, 192] 0.0 1.0\n",
      "Applied providers: ['CPUExecutionProvider'], with options: {'CPUExecutionProvider': {}}\n",
      "find model: /home/hoang/.insightface/models/buffalo_l/det_10g.onnx detection [1, 3, '?', '?'] 127.5 128.0\n",
      "Applied providers: ['CPUExecutionProvider'], with options: {'CPUExecutionProvider': {}}\n",
      "find model: /home/hoang/.insightface/models/buffalo_l/genderage.onnx genderage ['None', 3, 96, 96] 0.0 1.0\n",
      "Applied providers: ['CPUExecutionProvider'], with options: {'CPUExecutionProvider': {}}\n",
      "find model: /home/hoang/.insightface/models/buffalo_l/w600k_r50.onnx recognition ['None', 3, 112, 112] 127.5 127.5\n",
      "set det-size: (640, 640)\n"
     ]
    }
   ],
   "source": [
    "from torchvision import transforms\n",
    "from utils.dataset import FaceKeypointDataset\n",
    "import os\n",
    "\n",
    "transform = transforms.Compose([\n",
    "    transforms.ToTensor(),  # Convert (H, W, C) → (C, H, W) + scale [0, 255] → [0, 1]\n",
    "    transforms.Normalize(mean=[0.485, 0.456, 0.406], \n",
    "                         std=[0.229, 0.224, 0.225])\n",
    "])"
   ]
  },
  {
   "cell_type": "code",
   "execution_count": 3,
   "id": "78ec89da-18f7-4818-b0b9-bb37ce6b7637",
   "metadata": {},
   "outputs": [
    {
     "name": "stdout",
     "output_type": "stream",
     "text": [
      "/mnt/c/Users/hoang/Desktop/Workspace/Face-Pose-UDA/data\n"
     ]
    }
   ],
   "source": [
    "data_dir = os.path.abspath(\"../data/\")\n",
    "print(data_dir)"
   ]
  },
  {
   "cell_type": "code",
   "execution_count": 4,
   "id": "ce927c27-c2f2-4073-823f-b51527df6f58",
   "metadata": {},
   "outputs": [],
   "source": [
    "from torch.utils.data import DataLoader\n",
    "\n",
    "image_size = (256, 256)\n",
    "dataset = FaceKeypointDataset(data_dir, output_size=image_size)\n",
    "loader = DataLoader(dataset, batch_size=8, shuffle=False)"
   ]
  },
  {
   "cell_type": "code",
   "execution_count": 15,
   "id": "a984b659-9136-41aa-9925-a9c9ba4abb4d",
   "metadata": {},
   "outputs": [],
   "source": [
    "import matplotlib.pyplot as plt\n",
    "import torch\n",
    "\n",
    "def unnormalize_image(tensor, mean, std):\n",
    "    \"\"\"\n",
    "    tensor: (3, H, W), values in normalized range\n",
    "    return: unnormalized numpy array (H, W, 3), in [0, 1] for imshow\n",
    "    \"\"\"\n",
    "    tensor = tensor.clone()\n",
    "    for t, m, s in zip(tensor, mean, std):\n",
    "        t.mul_(s).add_(m)\n",
    "    return tensor.permute(1, 2, 0).numpy()\n",
    "\n",
    "def visualize_sample(image, keypoints, image_path, mean, std, figsize=(6, 6), title=None):\n",
    "    if torch.is_tensor(image):\n",
    "        image = unnormalize_image(image, mean, std)\n",
    "    if torch.is_tensor(keypoints):\n",
    "        keypoints = keypoints.numpy()\n",
    "\n",
    "    plt.figure(figsize=figsize)\n",
    "    plt.imshow(image)\n",
    "    plt.scatter(keypoints[:, 0], keypoints[:, 1], s=20, c='red')\n",
    "    if title:\n",
    "        plt.title(title)\n",
    "    # plt.axis('off')\n",
    "    # plt.show()\n",
    "    saved_image_path = os.path.join(\"../visualize_results\", os.path.basename(image_path))\n",
    "    plt.savefig(saved_image_path)\n",
    "    plt.clf()\n",
    "    plt.close()"
   ]
  },
  {
   "cell_type": "code",
   "execution_count": 16,
   "id": "969098f3-94c6-490a-9541-86417237db71",
   "metadata": {},
   "outputs": [
    {
     "name": "stdout",
     "output_type": "stream",
     "text": [
      "torch.Size([3, 256, 256]) torch.Size([30, 2])\n",
      "torch.Size([3, 256, 256]) torch.Size([30, 2])\n",
      "torch.Size([3, 256, 256]) torch.Size([30, 2])\n",
      "torch.Size([3, 256, 256]) torch.Size([30, 2])\n",
      "torch.Size([3, 256, 256]) torch.Size([30, 2])\n",
      "torch.Size([3, 256, 256]) torch.Size([30, 2])\n",
      "torch.Size([3, 256, 256]) torch.Size([30, 2])\n",
      "torch.Size([3, 256, 256]) torch.Size([30, 2])\n",
      "torch.Size([3, 256, 256]) torch.Size([30, 2])\n",
      "torch.Size([3, 256, 256]) torch.Size([30, 2])\n",
      "torch.Size([3, 256, 256]) torch.Size([30, 2])\n",
      "torch.Size([3, 256, 256]) torch.Size([30, 2])\n",
      "torch.Size([3, 256, 256]) torch.Size([30, 2])\n",
      "torch.Size([3, 256, 256]) torch.Size([30, 2])\n",
      "torch.Size([3, 256, 256]) torch.Size([30, 2])\n",
      "torch.Size([3, 256, 256]) torch.Size([30, 2])\n",
      "torch.Size([3, 256, 256]) torch.Size([30, 2])\n",
      "torch.Size([3, 256, 256]) torch.Size([30, 2])\n",
      "torch.Size([3, 256, 256]) torch.Size([30, 2])\n",
      "torch.Size([3, 256, 256]) torch.Size([30, 2])\n",
      "torch.Size([3, 256, 256]) torch.Size([30, 2])\n",
      "torch.Size([3, 256, 256]) torch.Size([30, 2])\n",
      "torch.Size([3, 256, 256]) torch.Size([30, 2])\n",
      "torch.Size([3, 256, 256]) torch.Size([30, 2])\n",
      "torch.Size([3, 256, 256]) torch.Size([30, 2])\n",
      "torch.Size([3, 256, 256]) torch.Size([30, 2])\n",
      "torch.Size([3, 256, 256]) torch.Size([30, 2])\n",
      "torch.Size([3, 256, 256]) torch.Size([30, 2])\n",
      "torch.Size([3, 256, 256]) torch.Size([30, 2])\n",
      "torch.Size([3, 256, 256]) torch.Size([30, 2])\n",
      "torch.Size([3, 256, 256]) torch.Size([30, 2])\n",
      "torch.Size([3, 256, 256]) torch.Size([30, 2])\n",
      "torch.Size([3, 256, 256]) torch.Size([30, 2])\n",
      "torch.Size([3, 256, 256]) torch.Size([30, 2])\n",
      "torch.Size([3, 256, 256]) torch.Size([30, 2])\n",
      "torch.Size([3, 256, 256]) torch.Size([30, 2])\n",
      "torch.Size([3, 256, 256]) torch.Size([30, 2])\n",
      "torch.Size([3, 256, 256]) torch.Size([30, 2])\n",
      "torch.Size([3, 256, 256]) torch.Size([30, 2])\n",
      "torch.Size([3, 256, 256]) torch.Size([30, 2])\n",
      "torch.Size([3, 256, 256]) torch.Size([30, 2])\n",
      "torch.Size([3, 256, 256]) torch.Size([30, 2])\n",
      "torch.Size([3, 256, 256]) torch.Size([30, 2])\n",
      "torch.Size([3, 256, 256]) torch.Size([30, 2])\n",
      "torch.Size([3, 256, 256]) torch.Size([30, 2])\n",
      "torch.Size([3, 256, 256]) torch.Size([30, 2])\n",
      "torch.Size([3, 256, 256]) torch.Size([30, 2])\n",
      "torch.Size([3, 256, 256]) torch.Size([30, 2])\n",
      "torch.Size([3, 256, 256]) torch.Size([30, 2])\n",
      "torch.Size([3, 256, 256]) torch.Size([30, 2])\n",
      "torch.Size([3, 256, 256]) torch.Size([30, 2])\n",
      "torch.Size([3, 256, 256]) torch.Size([30, 2])\n",
      "torch.Size([3, 256, 256]) torch.Size([30, 2])\n",
      "torch.Size([3, 256, 256]) torch.Size([30, 2])\n",
      "torch.Size([3, 256, 256]) torch.Size([30, 2])\n",
      "torch.Size([3, 256, 256]) torch.Size([30, 2])\n",
      "torch.Size([3, 256, 256]) torch.Size([30, 2])\n",
      "torch.Size([3, 256, 256]) torch.Size([30, 2])\n",
      "torch.Size([3, 256, 256]) torch.Size([30, 2])\n",
      "torch.Size([3, 256, 256]) torch.Size([30, 2])\n",
      "torch.Size([3, 256, 256]) torch.Size([30, 2])\n",
      "torch.Size([3, 256, 256]) torch.Size([30, 2])\n",
      "torch.Size([3, 256, 256]) torch.Size([30, 2])\n",
      "torch.Size([3, 256, 256]) torch.Size([30, 2])\n",
      "torch.Size([3, 256, 256]) torch.Size([30, 2])\n",
      "torch.Size([3, 256, 256]) torch.Size([30, 2])\n",
      "torch.Size([3, 256, 256]) torch.Size([30, 2])\n",
      "torch.Size([3, 256, 256]) torch.Size([30, 2])\n",
      "torch.Size([3, 256, 256]) torch.Size([30, 2])\n",
      "torch.Size([3, 256, 256]) torch.Size([30, 2])\n",
      "torch.Size([3, 256, 256]) torch.Size([30, 2])\n",
      "torch.Size([3, 256, 256]) torch.Size([30, 2])\n",
      "torch.Size([3, 256, 256]) torch.Size([30, 2])\n",
      "torch.Size([3, 256, 256]) torch.Size([30, 2])\n",
      "torch.Size([3, 256, 256]) torch.Size([30, 2])\n",
      "torch.Size([3, 256, 256]) torch.Size([30, 2])\n",
      "torch.Size([3, 256, 256]) torch.Size([30, 2])\n",
      "torch.Size([3, 256, 256]) torch.Size([30, 2])\n",
      "torch.Size([3, 256, 256]) torch.Size([30, 2])\n",
      "torch.Size([3, 256, 256]) torch.Size([30, 2])\n",
      "torch.Size([3, 256, 256]) torch.Size([30, 2])\n",
      "torch.Size([3, 256, 256]) torch.Size([30, 2])\n",
      "torch.Size([3, 256, 256]) torch.Size([30, 2])\n",
      "torch.Size([3, 256, 256]) torch.Size([30, 2])\n",
      "torch.Size([3, 256, 256]) torch.Size([30, 2])\n",
      "torch.Size([3, 256, 256]) torch.Size([30, 2])\n",
      "torch.Size([3, 256, 256]) torch.Size([30, 2])\n",
      "torch.Size([3, 256, 256]) torch.Size([30, 2])\n",
      "torch.Size([3, 256, 256]) torch.Size([30, 2])\n",
      "torch.Size([3, 256, 256]) torch.Size([30, 2])\n",
      "torch.Size([3, 256, 256]) torch.Size([30, 2])\n",
      "torch.Size([3, 256, 256]) torch.Size([30, 2])\n",
      "torch.Size([3, 256, 256]) torch.Size([30, 2])\n",
      "torch.Size([3, 256, 256]) torch.Size([30, 2])\n",
      "torch.Size([3, 256, 256]) torch.Size([30, 2])\n",
      "torch.Size([3, 256, 256]) torch.Size([30, 2])\n",
      "torch.Size([3, 256, 256]) torch.Size([30, 2])\n",
      "torch.Size([3, 256, 256]) torch.Size([30, 2])\n",
      "torch.Size([3, 256, 256]) torch.Size([30, 2])\n",
      "torch.Size([3, 256, 256]) torch.Size([30, 2])\n",
      "torch.Size([3, 256, 256]) torch.Size([30, 2])\n",
      "torch.Size([3, 256, 256]) torch.Size([30, 2])\n",
      "torch.Size([3, 256, 256]) torch.Size([30, 2])\n",
      "torch.Size([3, 256, 256]) torch.Size([30, 2])\n",
      "torch.Size([3, 256, 256]) torch.Size([30, 2])\n",
      "torch.Size([3, 256, 256]) torch.Size([30, 2])\n",
      "torch.Size([3, 256, 256]) torch.Size([30, 2])\n"
     ]
    }
   ],
   "source": [
    "for item in dataset:\n",
    "    image, keypoints, image_path = item\n",
    "    print(image.shape, keypoints.shape)\n",
    "    visualize_sample(image, keypoints, image_path, mean=[0.485, 0.456, 0.406], std=[0.229, 0.224, 0.225])"
   ]
  },
  {
   "cell_type": "code",
   "execution_count": null,
   "id": "2049afb3-c727-4f6d-9838-541888fb8a82",
   "metadata": {},
   "outputs": [],
   "source": []
  }
 ],
 "metadata": {
  "kernelspec": {
   "display_name": "Python 3 (ipykernel)",
   "language": "python",
   "name": "python3"
  },
  "language_info": {
   "codemirror_mode": {
    "name": "ipython",
    "version": 3
   },
   "file_extension": ".py",
   "mimetype": "text/x-python",
   "name": "python",
   "nbconvert_exporter": "python",
   "pygments_lexer": "ipython3",
   "version": "3.10.16"
  }
 },
 "nbformat": 4,
 "nbformat_minor": 5
}
