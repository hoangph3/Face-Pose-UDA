{
 "cells": [
  {
   "cell_type": "code",
   "execution_count": 2,
   "id": "af2dd7ff-52cb-454e-8de0-fcd91ae7e354",
   "metadata": {},
   "outputs": [],
   "source": [
    "import sys\n",
    "sys.path.append(\"..\")"
   ]
  },
  {
   "cell_type": "code",
   "execution_count": 3,
   "id": "d82f25aa-4129-436f-9d5f-4ed19ea23854",
   "metadata": {},
   "outputs": [
    {
     "name": "stderr",
     "output_type": "stream",
     "text": [
      "/home/hoang/miniconda3/envs/ikemen/lib/python3.10/site-packages/mmcv/__init__.py:20: UserWarning: On January 1, 2023, MMCV will release v2.0.0, in which it will remove components related to the training process and add a data transformation module. In addition, it will rename the package names mmcv to mmcv-lite and mmcv-full to mmcv. See https://github.com/open-mmlab/mmcv/blob/master/docs/en/compatibility.md for more details.\n",
      "  warnings.warn(\n",
      "/home/hoang/miniconda3/envs/ikemen/lib/python3.10/site-packages/mmcv/cnn/bricks/transformer.py:33: UserWarning: Fail to import ``MultiScaleDeformableAttention`` from ``mmcv.ops.multi_scale_deform_attn``, You should install ``mmcv-full`` if you need this module. \n",
      "  warnings.warn('Fail to import ``MultiScaleDeformableAttention`` from '\n",
      "/home/hoang/miniconda3/envs/ikemen/lib/python3.10/site-packages/mmpose/models/registry.py:9: DeprecationWarning: Registries (BACKBONES, NECKS, HEADS, LOSSES, POSENETS) have been moved to mmpose.models.builder. Importing from mmpose.models.registry will be deprecated in the future.\n",
      "  warnings.warn(\n"
     ]
    }
   ],
   "source": [
    "from mmcv import Config, DictAction\n",
    "from mmcv.runner import load_checkpoint\n",
    "from models import build_posenet\n",
    "import torch"
   ]
  },
  {
   "cell_type": "code",
   "execution_count": 4,
   "id": "04f43c43-76aa-4f33-a634-4a4fecae3b63",
   "metadata": {},
   "outputs": [
    {
     "name": "stderr",
     "output_type": "stream",
     "text": [
      "/home/hoang/miniconda3/envs/ikemen/lib/python3.10/site-packages/mmpose/models/detectors/top_down.py:61: DeprecationWarning: `loss_pose` for TopDown is deprecated, use `loss_keypoint` for heads instead. See https://github.com/open-mmlab/mmpose/pull/382 for more information.\n",
      "  warnings.warn(\n"
     ]
    }
   ],
   "source": [
    "cfg_file = \"../configs/top_down/lite_hrnet/mpii/litehrnet_30_mpii_256x256.py\"\n",
    "cfg = Config.fromfile(cfg_file)\n",
    "model = build_posenet(cfg.model)"
   ]
  },
  {
   "cell_type": "code",
   "execution_count": 5,
   "id": "ca2abd70-8df7-4ef4-bb65-0708a9663e61",
   "metadata": {},
   "outputs": [
    {
     "name": "stdout",
     "output_type": "stream",
     "text": [
      "===> BEFORE LOADING CHECKPOINT:\n",
      "backbone.stem.conv1.conv.weight: mean=-0.000034, std=0.001009\n",
      "load checkpoint from local path: ../ckpts/litehrnet_30_mpii_256x256.pth\n",
      "The model and loaded state dict do not match exactly\n",
      "\n",
      "size mismatch for keypoint_head.final_layer.weight: copying a param with shape torch.Size([16, 40, 1, 1]) from checkpoint, the shape in current model is torch.Size([30, 40, 1, 1]).\n",
      "size mismatch for keypoint_head.final_layer.bias: copying a param with shape torch.Size([16]) from checkpoint, the shape in current model is torch.Size([30]).\n",
      "\n",
      "===> AFTER LOADING CHECKPOINT:\n",
      "backbone.stem.conv1.conv.weight: mean=-0.006808, std=0.176222\n"
     ]
    }
   ],
   "source": [
    "# In một số trọng số trước khi load checkpoint\n",
    "print(\"===> BEFORE LOADING CHECKPOINT:\")\n",
    "for name, param in model.named_parameters():\n",
    "    if 'conv' in name:  # chỉ lọc các lớp conv cho gọn\n",
    "        print(f\"{name}: mean={param.data.mean().item():.6f}, std={param.data.std().item():.6f}\")\n",
    "    break  # chỉ in 1 layer đầu tiên để ngắn gọn (bạn có thể bỏ break để in hết)\n",
    "\n",
    "# Load checkpoint\n",
    "checkpoint = load_checkpoint(model, '../ckpts/litehrnet_30_mpii_256x256.pth', map_location='cpu')\n",
    "\n",
    "# In lại sau khi load checkpoint\n",
    "print(\"\\n===> AFTER LOADING CHECKPOINT:\")\n",
    "for name, param in model.named_parameters():\n",
    "    if 'conv' in name:\n",
    "        print(f\"{name}: mean={param.data.mean().item():.6f}, std={param.data.std().item():.6f}\")\n",
    "    break  # in đúng layer lúc nãy"
   ]
  },
  {
   "cell_type": "code",
   "execution_count": 22,
   "id": "34b82a74-df54-4844-846e-e14e10de1813",
   "metadata": {},
   "outputs": [],
   "source": [
    "dummy_input = torch.randn(2, 3, 256, 256)"
   ]
  },
  {
   "cell_type": "code",
   "execution_count": 23,
   "id": "f7295f60-bc3e-4c9d-930a-ac249e4b6f92",
   "metadata": {},
   "outputs": [],
   "source": [
    "backbone = model.backbone\n",
    "head = model.keypoint_head"
   ]
  },
  {
   "cell_type": "code",
   "execution_count": 25,
   "id": "5d420b0e-0c13-4623-8108-4d79605c6be5",
   "metadata": {},
   "outputs": [
    {
     "name": "stdout",
     "output_type": "stream",
     "text": [
      "1\n"
     ]
    }
   ],
   "source": [
    "latent = backbone(dummy_input)\n",
    "print(len(latent))"
   ]
  },
  {
   "cell_type": "code",
   "execution_count": 26,
   "id": "eef9e530-6a6a-4c2c-933c-54b07810d379",
   "metadata": {},
   "outputs": [
    {
     "data": {
      "text/plain": [
       "torch.Size([2, 30, 64, 64])"
      ]
     },
     "execution_count": 26,
     "metadata": {},
     "output_type": "execute_result"
    }
   ],
   "source": [
    "out = head(latent)\n",
    "out.shape"
   ]
  },
  {
   "cell_type": "code",
   "execution_count": 27,
   "id": "4ec39a86-9927-4f8b-a071-6de866a5a924",
   "metadata": {},
   "outputs": [],
   "source": [
    "from mmpose.core.evaluation.top_down_eval import _get_max_preds"
   ]
  },
  {
   "cell_type": "code",
   "execution_count": 28,
   "id": "56401de3-8877-41dc-b52d-c241c2bc2776",
   "metadata": {},
   "outputs": [
    {
     "name": "stdout",
     "output_type": "stream",
     "text": [
      "(2, 30, 2) (2, 30, 1)\n"
     ]
    }
   ],
   "source": [
    "preds, maxvals = _get_max_preds(out.detach().numpy())\n",
    "print(preds.shape, maxvals.shape)"
   ]
  },
  {
   "cell_type": "code",
   "execution_count": null,
   "id": "1b08191d-10ab-4f0b-9af1-c283d6f775e9",
   "metadata": {},
   "outputs": [],
   "source": []
  }
 ],
 "metadata": {
  "kernelspec": {
   "display_name": "Python 3 (ipykernel)",
   "language": "python",
   "name": "python3"
  },
  "language_info": {
   "codemirror_mode": {
    "name": "ipython",
    "version": 3
   },
   "file_extension": ".py",
   "mimetype": "text/x-python",
   "name": "python",
   "nbconvert_exporter": "python",
   "pygments_lexer": "ipython3",
   "version": "3.10.16"
  }
 },
 "nbformat": 4,
 "nbformat_minor": 5
}
